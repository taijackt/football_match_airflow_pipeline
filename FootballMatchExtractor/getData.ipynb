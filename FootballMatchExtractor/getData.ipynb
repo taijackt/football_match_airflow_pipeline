{
 "cells": [
  {
   "cell_type": "code",
   "execution_count": 4,
   "metadata": {},
   "outputs": [],
   "source": [
    "#!pip install requests\n",
    "# !pip install beautifulsoup4\n",
    "# !pip install lxml\n",
    "# !pip install html5lib"
   ]
  },
  {
   "cell_type": "code",
   "execution_count": 120,
   "metadata": {},
   "outputs": [],
   "source": [
    "import requests\n",
    "from bs4 import BeautifulSoup\n",
    "from datetime import datetime,timedelta\n",
    "import pandas as pd"
   ]
  },
  {
   "cell_type": "code",
   "execution_count": 7,
   "metadata": {},
   "outputs": [],
   "source": [
    "response = requests.get(\"https://www.theguardian.com/football/results\").text"
   ]
  },
  {
   "cell_type": "code",
   "execution_count": 20,
   "metadata": {},
   "outputs": [],
   "source": [
    "soup = BeautifulSoup(response, 'html.parser')"
   ]
  },
  {
   "cell_type": "code",
   "execution_count": 149,
   "metadata": {},
   "outputs": [],
   "source": [
    "target_date = datetime.today() - timedelta(days=1)\n",
    "formated_date = target_date.strftime(\"%A %d %B %Y\")\n",
    "\n",
    "matches = []\n",
    "day_match = soup.find(lambda tag: tag.name == \"div\" and  formated_date in tag.text, class_=\"football-matches__day\") \n",
    "\n",
    "if day_match:\n",
    "    football_matches_table = day_match.findAll(\"div\", class_=\"football-table__container\")\n",
    "\n",
    "    for match_table in football_matches_table:\n",
    "        table = match_table.find(\"table\")\n",
    "        title = table.find(\"caption\").a.text\n",
    "        for match in table.findAll(\"tr\")[1:]:\n",
    "            team_names = match.findAll(\"span\", class_=\"team-name__long\")\n",
    "            scores = match.findAll(\"div\", class_=\"football-team__score\")\n",
    "            matches.append(\n",
    "                {\n",
    "                    \"Date\": target_date.strftime(\"%Y-%m-%d\"),\n",
    "                    \"Competition\":title,\n",
    "                    \"Team_a\":team_names[0].text,\n",
    "                    \"Score_a\":scores[0].text,\n",
    "                    \"Team_b\":team_names[1].text,\n",
    "                    \"Score_b\":scores[1].text\n",
    "                }\n",
    "            )  \n",
    "\n",
    "    "
   ]
  },
  {
   "cell_type": "code",
   "execution_count": 150,
   "metadata": {},
   "outputs": [
    {
     "data": {
      "text/html": [
       "<div>\n",
       "<style scoped>\n",
       "    .dataframe tbody tr th:only-of-type {\n",
       "        vertical-align: middle;\n",
       "    }\n",
       "\n",
       "    .dataframe tbody tr th {\n",
       "        vertical-align: top;\n",
       "    }\n",
       "\n",
       "    .dataframe thead th {\n",
       "        text-align: right;\n",
       "    }\n",
       "</style>\n",
       "<table border=\"1\" class=\"dataframe\">\n",
       "  <thead>\n",
       "    <tr style=\"text-align: right;\">\n",
       "      <th></th>\n",
       "    </tr>\n",
       "  </thead>\n",
       "  <tbody>\n",
       "  </tbody>\n",
       "</table>\n",
       "</div>"
      ],
      "text/plain": [
       "Empty DataFrame\n",
       "Columns: []\n",
       "Index: []"
      ]
     },
     "execution_count": 150,
     "metadata": {},
     "output_type": "execute_result"
    }
   ],
   "source": [
    "pd.DataFrame(matches)"
   ]
  }
 ],
 "metadata": {
  "kernelspec": {
   "display_name": "Python 3",
   "language": "python",
   "name": "python3"
  },
  "language_info": {
   "codemirror_mode": {
    "name": "ipython",
    "version": 3
   },
   "file_extension": ".py",
   "mimetype": "text/x-python",
   "name": "python",
   "nbconvert_exporter": "python",
   "pygments_lexer": "ipython3",
   "version": "3.8.0"
  },
  "orig_nbformat": 4
 },
 "nbformat": 4,
 "nbformat_minor": 2
}
