{
 "cells": [
  {
   "cell_type": "code",
   "execution_count": 4,
   "metadata": {},
   "outputs": [],
   "source": [
    "#!pip install requests\n",
    "# !pip install beautifulsoup4\n",
    "# !pip install lxml\n",
    "# !pip install html5lib"
   ]
  },
  {
   "cell_type": "code",
   "execution_count": 1,
   "metadata": {},
   "outputs": [],
   "source": [
    "import requests\n",
    "from bs4 import BeautifulSoup\n",
    "from datetime import datetime,timedelta\n",
    "import pandas as pd"
   ]
  },
  {
   "cell_type": "code",
   "execution_count": 2,
   "metadata": {},
   "outputs": [],
   "source": [
    "response = requests.get(\"https://www.theguardian.com/football/results\").text"
   ]
  },
  {
   "cell_type": "code",
   "execution_count": 3,
   "metadata": {},
   "outputs": [],
   "source": [
    "soup = BeautifulSoup(response, 'html.parser')"
   ]
  },
  {
   "cell_type": "code",
   "execution_count": 4,
   "metadata": {},
   "outputs": [],
   "source": [
    "target_date = datetime.today() - timedelta(days=1)\n",
    "formated_date = target_date.strftime(\"%A %d %B %Y\")\n",
    "\n",
    "matches = []\n",
    "day_match = soup.find(lambda tag: tag.name == \"div\" and  formated_date in tag.text, class_=\"football-matches__day\") \n",
    "\n",
    "if day_match:\n",
    "    football_matches_table = day_match.findAll(\"div\", class_=\"football-table__container\")\n",
    "\n",
    "    for match_table in football_matches_table:\n",
    "        table = match_table.find(\"table\")\n",
    "        title = table.find(\"caption\").a.text\n",
    "        for match in table.findAll(\"tr\")[1:]:\n",
    "            team_names = match.findAll(\"span\", class_=\"team-name__long\")\n",
    "            scores = match.findAll(\"div\", class_=\"football-team__score\")\n",
    "            matches.append(\n",
    "                {\n",
    "                    \"Date\": target_date.strftime(\"%Y-%m-%d\"),\n",
    "                    \"Competition\":title,\n",
    "                    \"Team_a\":team_names[0].text,\n",
    "                    \"Score_a\":scores[0].text,\n",
    "                    \"Team_b\":team_names[1].text,\n",
    "                    \"Score_b\":scores[1].text\n",
    "                }\n",
    "            )  \n",
    "\n",
    "    "
   ]
  },
  {
   "cell_type": "code",
   "execution_count": 6,
   "metadata": {},
   "outputs": [
    {
     "data": {
      "text/html": [
       "<div>\n",
       "<style scoped>\n",
       "    .dataframe tbody tr th:only-of-type {\n",
       "        vertical-align: middle;\n",
       "    }\n",
       "\n",
       "    .dataframe tbody tr th {\n",
       "        vertical-align: top;\n",
       "    }\n",
       "\n",
       "    .dataframe thead th {\n",
       "        text-align: right;\n",
       "    }\n",
       "</style>\n",
       "<table border=\"1\" class=\"dataframe\">\n",
       "  <thead>\n",
       "    <tr style=\"text-align: right;\">\n",
       "      <th></th>\n",
       "      <th>Date</th>\n",
       "      <th>Competition</th>\n",
       "      <th>Team_a</th>\n",
       "      <th>Score_a</th>\n",
       "      <th>Team_b</th>\n",
       "      <th>Score_b</th>\n",
       "    </tr>\n",
       "  </thead>\n",
       "  <tbody>\n",
       "    <tr>\n",
       "      <th>0</th>\n",
       "      <td>2023-09-15</td>\n",
       "      <td>Bundesliga</td>\n",
       "      <td>Bayern</td>\n",
       "      <td>2</td>\n",
       "      <td>Leverkusen</td>\n",
       "      <td>2</td>\n",
       "    </tr>\n",
       "    <tr>\n",
       "      <th>1</th>\n",
       "      <td>2023-09-15</td>\n",
       "      <td>La Liga</td>\n",
       "      <td>Rayo Vallecano</td>\n",
       "      <td>2</td>\n",
       "      <td>Alaves</td>\n",
       "      <td>0</td>\n",
       "    </tr>\n",
       "    <tr>\n",
       "      <th>2</th>\n",
       "      <td>2023-09-15</td>\n",
       "      <td>Ligue 1</td>\n",
       "      <td>PSG</td>\n",
       "      <td>2</td>\n",
       "      <td>Nice</td>\n",
       "      <td>3</td>\n",
       "    </tr>\n",
       "    <tr>\n",
       "      <th>3</th>\n",
       "      <td>2023-09-15</td>\n",
       "      <td>Championship</td>\n",
       "      <td>Southampton</td>\n",
       "      <td>1</td>\n",
       "      <td>Leicester</td>\n",
       "      <td>4</td>\n",
       "    </tr>\n",
       "    <tr>\n",
       "      <th>4</th>\n",
       "      <td>2023-09-15</td>\n",
       "      <td>Championship</td>\n",
       "      <td>Hull</td>\n",
       "      <td>1</td>\n",
       "      <td>Coventry</td>\n",
       "      <td>1</td>\n",
       "    </tr>\n",
       "    <tr>\n",
       "      <th>5</th>\n",
       "      <td>2023-09-15</td>\n",
       "      <td>League Two</td>\n",
       "      <td>Salford City</td>\n",
       "      <td>0</td>\n",
       "      <td>Notts County</td>\n",
       "      <td>2</td>\n",
       "    </tr>\n",
       "    <tr>\n",
       "      <th>6</th>\n",
       "      <td>2023-09-15</td>\n",
       "      <td>Scottish Championship</td>\n",
       "      <td>Ayr</td>\n",
       "      <td>0</td>\n",
       "      <td>Partick</td>\n",
       "      <td>4</td>\n",
       "    </tr>\n",
       "  </tbody>\n",
       "</table>\n",
       "</div>"
      ],
      "text/plain": [
       "         Date            Competition          Team_a Score_a        Team_b  \\\n",
       "0  2023-09-15             Bundesliga          Bayern       2    Leverkusen   \n",
       "1  2023-09-15                La Liga  Rayo Vallecano       2        Alaves   \n",
       "2  2023-09-15                Ligue 1             PSG       2          Nice   \n",
       "3  2023-09-15           Championship     Southampton       1     Leicester   \n",
       "4  2023-09-15           Championship            Hull       1      Coventry   \n",
       "5  2023-09-15             League Two    Salford City       0  Notts County   \n",
       "6  2023-09-15  Scottish Championship             Ayr       0       Partick   \n",
       "\n",
       "  Score_b  \n",
       "0       2  \n",
       "1       0  \n",
       "2       3  \n",
       "3       4  \n",
       "4       1  \n",
       "5       2  \n",
       "6       4  "
      ]
     },
     "execution_count": 6,
     "metadata": {},
     "output_type": "execute_result"
    }
   ],
   "source": [
    "pd.DataFrame(matches)"
   ]
  },
  {
   "cell_type": "code",
   "execution_count": null,
   "metadata": {},
   "outputs": [],
   "source": []
  }
 ],
 "metadata": {
  "kernelspec": {
   "display_name": "Python 3",
   "language": "python",
   "name": "python3"
  },
  "language_info": {
   "codemirror_mode": {
    "name": "ipython",
    "version": 3
   },
   "file_extension": ".py",
   "mimetype": "text/x-python",
   "name": "python",
   "nbconvert_exporter": "python",
   "pygments_lexer": "ipython3",
   "version": "3.8.0"
  },
  "orig_nbformat": 4
 },
 "nbformat": 4,
 "nbformat_minor": 2
}
